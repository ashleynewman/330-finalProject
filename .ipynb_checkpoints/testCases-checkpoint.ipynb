{
 "cells": [
  {
   "cell_type": "code",
   "execution_count": 1,
   "metadata": {},
   "outputs": [],
   "source": [
    "import pandas as pd\n",
    "import numpy as np"
   ]
  },
  {
   "cell_type": "code",
   "execution_count": null,
   "metadata": {},
   "outputs": [],
   "source": [
    "def test_read_streaming_platforms_data():\n",
    "    df = read_streaming_platforms_data()\n",
    "    assert df['ID'].dtypes == int\n",
    "    assert df['Title'].loc[0] == 'Inception'\n",
    "    assert len(df['Directors'].unique() == 11339)\n",
    "\n",
    "test_read_streaming_platforms_data()"
   ]
  },
  {
   "cell_type": "code",
   "execution_count": null,
   "metadata": {},
   "outputs": [],
   "source": [
    "def test_beautiful_soup_imdb():\n",
    "    assert beautiful_soup_imdb()[0][4] == 'Saving Private Ryan'\n",
    "    assert beautiful_soup_imdb()[2][2] == '2008'\n",
    "    assert len(beautiful_soup_imdb()[1]) == len(beautiful_soup_imdb()[0])\n",
    "\n",
    "test_beautiful_soup_imdb()"
   ]
  },
  {
   "cell_type": "code",
   "execution_count": null,
   "metadata": {},
   "outputs": [],
   "source": [
    "def test_read_imdb_website_data():\n",
    "    df = read_imdb_website_data()\n",
    "    assert len(df['Year'].unique()) == 22\n",
    "    #assert df.loc[1][2] == 9.2\n",
    "    #assert type(df.loc[1][2]) == float\n",
    "\n",
    "test_read_imdb_website_data()"
   ]
  }
 ],
 "metadata": {
  "kernelspec": {
   "display_name": "Python 3",
   "language": "python",
   "name": "python3"
  },
  "language_info": {
   "codemirror_mode": {
    "name": "ipython",
    "version": 3
   },
   "file_extension": ".py",
   "mimetype": "text/x-python",
   "name": "python",
   "nbconvert_exporter": "python",
   "pygments_lexer": "ipython3",
   "version": "3.7.3"
  }
 },
 "nbformat": 4,
 "nbformat_minor": 4
}
